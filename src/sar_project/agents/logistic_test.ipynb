{
 "cells": [
  {
   "cell_type": "code",
   "execution_count": 1,
   "metadata": {},
   "outputs": [],
   "source": [
    "from logistic_agent import LogisticAgent"
   ]
  },
  {
   "cell_type": "code",
   "execution_count": 7,
   "metadata": {},
   "outputs": [
    {
     "name": "stdout",
     "output_type": "stream",
     "text": [
      "[autogen.oai.client: 03-04 20:27:11] {261} WARNING - The API key specified is not a valid OpenAI format; it won't work with the OpenAI-hosted model.\n"
     ]
    },
    {
     "name": "stderr",
     "output_type": "stream",
     "text": [
      "WARNING:autogen.oai.client:The API key specified is not a valid OpenAI format; it won't work with the OpenAI-hosted model.\n"
     ]
    }
   ],
   "source": [
    "log_agent =  LogisticAgent(name=\"LogisticAgent\")"
   ]
  },
  {
   "cell_type": "code",
   "execution_count": 2,
   "metadata": {},
   "outputs": [
    {
     "name": "stdout",
     "output_type": "stream",
     "text": [
      "[autogen.oai.client: 03-04 20:28:57] {261} WARNING - The API key specified is not a valid OpenAI format; it won't work with the OpenAI-hosted model.\n",
      "Warning: Resource first aid kit not found in inventory\n",
      "Warning: Resource thermal blankets not found in inventory\n",
      "Warning: Resource climbing gear not found in inventory\n"
     ]
    }
   ],
   "source": [
    "# Initialize the agent\n",
    "agent = LogisticAgent()\n",
    "\n",
    "# Process a supply request\n",
    "request = {\n",
    "    \"request_type\": \"get_supplies\",\n",
    "    \"parameters\": {\n",
    "        \"location\": \"Mountain Rescue Zone\",\n",
    "        \"team\": \"6 members\",\n",
    "        \"duration\": 3,\n",
    "        \"resources\": [\"first aid kit\", \"thermal blankets\", \"climbing gear\"]\n",
    "    }\n",
    "}\n",
    "\n",
    "# Get supply recommendations\n",
    "response = agent.process_request(request)\n",
    "\n",
    "# Track resource usage after the mission\n",
    "agent.track_resource_usage(\n",
    "    mission_id=\"mountain_rescue_2024\", \n",
    "    resources_used={\n",
    "        \"first aid kit\": 1,\n",
    "        \"thermal blankets\": 6,\n",
    "        \"climbing gear\": 3\n",
    "    }\n",
    ")\n",
    "\n",
    "# Retrieve recent incident logs\n",
    "recent_incidents = agent.get_historical_incidents()"
   ]
  },
  {
   "cell_type": "code",
   "execution_count": 3,
   "metadata": {},
   "outputs": [
    {
     "data": {
      "text/plain": [
       "{'original_request': {'timestamp': '2025-03-04 20:28:57.160912',\n",
       "  'full_message': {'request_type': 'get_supplies',\n",
       "   'parameters': {'location': 'Mountain Rescue Zone',\n",
       "    'team': '6 members',\n",
       "    'duration': 3,\n",
       "    'resources': ['first aid kit', 'thermal blankets', 'climbing gear']}}},\n",
       " 'status': 'success',\n",
       " 'recommendations': \"Okay, let's craft a comprehensive supply recommendation for a 3-day mountain rescue mission with a team of 6, factoring in the given information and a blank-slate historical context.\\n\\n**1. Essential Supplies List with Quantities:**\\n\\n| Item                     | Quantity | Priority | Rationale                                                                                                                                                              |\\n| ------------------------ | -------- | -------- | ---------------------------------------------------------------------------------------------------------------------------------------------------------------------- |\\n| **Medical**              |          |          |                                                                                                                                                                      |\\n| First Aid Kit           | 1 Large, 1 Small (Individual) | High     | Essential for immediate treatment of injuries.  One central kit, plus smaller individual kits for quicker access and minor incidents.                       |\\n| Trauma Kit (IFAK) | 2 | High |  For life threatening injuries such as severe bleeding, airway obstructions, and chest trauma.                               |\\n| Pain Relievers (Ibuprofen, Acetaminophen) | 100 pills each | Medium  | Pain management.                                                                                                                                      |\\n| Anti-Diarrheal Medication | 30 pills | Medium  | Potential gastrointestinal issues from food or water.                                                                                                                     |\\n| Antihistamines            | 30 pills | Medium  | Allergic reactions (insect bites, plants).                                                                                                                               |\\n| Blister Treatment (Moleskin, Compeed) | 2 packs each | High     | Foot care is critical for mobility.                                                                                                                              |\\n| SAM Splint             | 2        | Medium  | Splinting fractures and sprains.                                                                                                                                         |\\n| Wound Closure Strips    | 5 packs  | Medium  | Closing minor wounds.                                                                                                                                                        |\\n| Medical Tape              | 2 rolls  | Medium  | Securing bandages, splints.                                                                                                                                                 |\\n| **Shelter/Warmth**       |          |          |                                                                                                                                                                      |\\n| Thermal Blankets (Emergency Blankets) | 8        | High     | Preventing hypothermia.  Sufficient for team + some redundancy.                                                                                                  |\\n| Tarp (Lightweight, Multi-Purpose) | 1 Large | Medium  | Shelter construction, ground cover.                                                                                                                                   |\\n| Sleeping Bags (Mountain Rated) | 6        | High     | Maintaining core body temperature, especially overnight.  Mountain-rated for expected cold conditions.                                                             |\\n| Sleeping Pads (Insulated)  | 6        | High     | Providing insulation from the ground.                                                                                                                                    |\\n| Bivy Sacks (Emergency) | 2 | Medium | Additional layer of protection against the elements.                                                                                                                            |\\n| **Nutrition/Hydration**  |          |          |                                                                                                                                                                      |\\n| Water Purification Tablets/Filter | 100 tablets/1 Filter | High     | Safe drinking water is crucial. Tablets for primary use, filter as backup.                                                                                          |\\n| Hydration Reservoirs (3L) | 6        | High     | Carrying water efficiently.                                                                                                                                                 |\\n| Electrolyte Supplements  | 60 packets | Medium  | Maintaining hydration and electrolyte balance.                                                                                                                            |\\n| High-Energy Food Bars    | 36       | High     | Quick source of calories.                                                                                                                                               |\\n| Freeze-Dried Meals       | 18 (3 per person) | High     | More substantial meals for recovery.                                                                                                                                 |\\n| **Climbing Gear**        |          |          |                                                                                                                                                                      |\\n| Climbing Ropes (Dynamic) | 2 x 60m  | High     | Rescue scenarios, rappelling, ascending.  Dynamic for absorbing fall impact.                                                                                                  |\\n| Climbing Harnesses       | 6        | High     | Attaching to ropes, anchors.                                                                                                                                              |\\n| Climbing Helmets         | 6        | High     | Head protection from falling rocks and ice.                                                                                                                                   |\\n| Locking Carabiners       | 20       | High     | Connecting various pieces of equipment safely.                                                                                                                               |\\n| Non-Locking Carabiners    | 20       | Medium  | General-purpose connections.                                                                                                                                               |\\n| Belay Devices            | 3        | High     | Controlling rope during rappelling and belaying.                                                                                                                            |\\n| Prusik Cord (Various Lengths) | 30m total | Medium  | Ascending ropes, creating friction hitches.                                                                                                                            |\\n| Webbing (Slings)         | 20m total | Medium  | Anchors, extending belays.                                                                                                                                               |\\n| Ice Axe (if applicable) | 6        | High (If ice/snow conditions are possible) | For self-arrest and ascending icy slopes. *Consider the season and specific mountain range.*                                                               |\\n| Crampons (if applicable) | 6        | High (If ice/snow conditions are possible) | Providing traction on ice and snow. *Consider the season and specific mountain range.*                                                                 |\\n| **Navigation/Communication** |          |          |                                                                                                                                                                      |\\n| GPS Device               | 2        | High     | Navigation and location tracking.                                                                                                                                             |\\n| Compass                  | 6        | High     | Backup navigation.                                                                                                                                                         |\\n| Maps (Topographic)       | 2 (Relevant Area) | High     | Navigation and situational awareness.  Ensure appropriate scale and coverage.                                                                                         |\\n| Altimeter                | 2        | Medium  | Determining altitude and tracking elevation changes.                                                                                                                        |\\n| Satellite Phone/Communicator | 1        | High     | Communication with outside resources.  Crucial for emergencies.                                                                                                         |\\n| Two-Way Radios           | 3 Pairs   | High     | Intra-team communication.                                                                                                                                                 |\\n| Extra Batteries (All Devices) | Sufficient | High     | Powering electronic devices.                                                                                                                                            |\\n| **Tools/Misc.**          |          |          |                                                                                                                                                                      |\\n| Headlamps/Flashlights    | 6        | High     | Illumination.                                                                                                                                                             |\\n| Extra Batteries (Headlamps/Flashlights) | Sufficient | High     | Powering illumination devices.                                                                                                                                |\\n| Multi-Tool               | 6        | Medium  | General repairs and tasks.                                                                                                                                                   |\\n| Knife                    | 6        | Medium  | Cutting tasks.                                                                                                                                                            |\\n| Duct Tape                | 1 roll   | Medium  | Repairs and various uses.                                                                                                                                                 |\\n| Fire Starter (Waterproof) | 2        | High     | Starting fires for warmth and signaling.                                                                                                                                      |\\n| Whistle                  | 6        | High     | Signaling for help.                                                                                                                                                           |\\n| Sunscreen                | 6        | High     | Protecting skin from sun exposure.                                                                                                                                               |\\n| Insect Repellent         | 6        | Medium  | Protecting against insects.                                                                                                                                                 |\\n| Sunglasses               | 6        | High     | Eye protection from sun and glare.                                                                                                                                             |\\n| Gloves (Work Gloves & Insulated Gloves) | 6 Pairs each | High | Protection from the elements and abrasions.                                                                                                                        |\\n| Hand Sanitizer           | 2 bottles | Medium  | Hygiene.                                                                                                                                                                   |\\n| Trash Bags               | 5        | Low      | Packing out trash.                                                                                                                                                            |\\n| Repair Kit (For clothing/gear) | 1        | Medium  | Repairing damaged equipment.                                                                                                                                               |\\n| Duct tape | 1 roll | Medium | for repairs on equipment                                                                                                                               |\\n\\n**2. Priority Levels Rationale:**\\n\\n*   **High:**  Items essential for survival, safety, navigation, and communication. Failure to have these items could lead to serious injury, mission failure, or death.\\n*   **Medium:**  Items that enhance comfort, efficiency, and contingency planning. Their absence wouldn't immediately threaten the mission, but could significantly impact performance or recovery.\\n*   **Low:**  Items that improve convenience or long-term sustainability but are not strictly necessary for the mission's success.\\n\\n**3. Special Considerations for the Location and Duration:**\\n\\n*   **Mountain Environment:** Altitude, weather, terrain, and potential wildlife pose significant risks.\\n    *   **Weather:** Be prepared for rapid changes in weather.  Hypothermia and exposure are major concerns. Pack layers of clothing (moisture-wicking base layers, insulating mid-layers, waterproof/windproof outer layers).\\n    *   **Terrain:** Steep slopes, rockfall, and crevasses (if glaciated) demand appropriate climbing gear and expertise.\\n    *   **Altitude:**  Altitude sickness is possible. Ascend gradually, stay hydrated, and monitor for symptoms. Consider acetazolamide (Diamox) if ascent is rapid.\\n*   **Duration (3 Days):**  This duration requires sufficient food, water, and fuel (if using a stove) to sustain the team.  Plan for adequate rest and recovery.\\n\\n**4. Backup/Contingency Supplies:**\\n\\n*   **Navigation:**  A second compass and map, separate from the primary ones.\\n*   **Communication:**  Consider a second satellite communication device if budget allows.  Learn basic signaling techniques (mirror, fire).\\n*   **Shelter:**  Emergency bivy sacks provide an extra layer of protection if separated from the main group or if existing shelter fails.\\n*   **Fire:**  Multiple fire starters (ferro rod, lighter with fuel, waterproof matches) and tinder (cotton balls with petroleum jelly) in separate locations.\\n*   **Water:**  Redundant water purification methods (tablets and filter). Knowledge of finding water sources.\\n*   **Food:**  Extra high-energy food bars beyond the planned rations.\\n*   **First Aid:**  A second small first aid kit, stashed separately.\\n\\n**5. Estimated Supply Weights and Volumes:**\\n\\nThis is an *estimate*, and actual weights and volumes will vary depending on the specific brands and materials used.  Packing efficiency is crucial.\\n\\n*   **Medical:** 3-5 lbs, 5-7 Liters\\n*   **Shelter/Warmth:** 15-25 lbs, 20-35 Liters (Sleeping bags are bulky)\\n*   **Nutrition/Hydration:** 10-15 lbs, 10-15 Liters (Water weight is significant - plan for refilling)\\n*   **Climbing Gear:** 20-30 lbs, 15-25 Liters\\n*   **Navigation/Communication:** 2-3 lbs, 2-3 Liters\\n*   **Tools/Misc.:** 5-10 lbs, 5-10 Liters\\n\\n**Total Estimated Weight:** 55-88 lbs per person.  This is a *heavy* load.  Careful consideration must be given to load distribution and the physical fitness of team members.\\n\\n**Total Estimated Volume:** 57-95 Liters per person. This is a large volume and packing efficiency is critical to reducing pack size.\\n\\n**Important Considerations & Next Steps:**\\n\\n*   **Specific Mountain Range & Season:**  This list is a general template.  Adapt it to the specific mountain range, altitude, expected weather conditions, and season. Consult local guides and park rangers for current conditions and hazards.\\n*   **Team Skills and Experience:**  Ensure all team members are proficient in the use of climbing gear, first aid, navigation, and communication equipment.  Provide refresher training if necessary.\\n*   **Weight Distribution:**  Distribute heavy items evenly among team members.\\n*   **Pack Fitting:**  Properly fit backpacks to each team member to ensure comfort and prevent injury.\\n*   **Packing List Review:**  Have each team member review the packing list and understand where specific items are located in their pack.\\n*   **Contingency Planning:**  Develop a detailed contingency plan that addresses potential emergencies, such as injuries, weather delays, lost equipment, and communication failures.  Practice these plans.\\n*   **Communication Protocol:** Establish a clear communication protocol with base camp or other support personnel.\\n*   **Leave No Trace:** Adhere to Leave No Trace principles to minimize environmental impact.\\n\\nThis detailed breakdown should provide a solid foundation for planning the supply needs for your mountain rescue mission. Remember that careful planning, thorough preparation, and a well-trained team are essential for a safe and successful operation.  Good luck!\\n\",\n",
       " 'metadata': {'location': 'Mountain Rescue Zone',\n",
       "  'team_size': '6 members',\n",
       "  'duration': 3,\n",
       "  'timestamp': '2025-03-04 20:29:14.663667'},\n",
       " 'request_details': {'type': 'get_supplies',\n",
       "  'parameters': {'location': 'Mountain Rescue Zone',\n",
       "   'team': '6 members',\n",
       "   'duration': 3,\n",
       "   'resources': ['first aid kit', 'thermal blankets', 'climbing gear']}},\n",
       " 'timestamp': '2025-03-04 20:29:14.663694'}"
      ]
     },
     "execution_count": 3,
     "metadata": {},
     "output_type": "execute_result"
    }
   ],
   "source": [
    "response"
   ]
  },
  {
   "cell_type": "code",
   "execution_count": 4,
   "metadata": {},
   "outputs": [
    {
     "name": "stderr",
     "output_type": "stream",
     "text": [
      "test_analyze_historical_incidents (__main__.TestLogisticAgent)\n",
      "Test analyzing historical incidents for a location ... "
     ]
    },
    {
     "name": "stdout",
     "output_type": "stream",
     "text": [
      "[autogen.oai.client: 03-04 20:30:46] {261} WARNING - The API key specified is not a valid OpenAI format; it won't work with the OpenAI-hosted model.\n"
     ]
    },
    {
     "name": "stderr",
     "output_type": "stream",
     "text": [
      "WARNING:autogen.oai.client:The API key specified is not a valid OpenAI format; it won't work with the OpenAI-hosted model.\n",
      "FAIL\n",
      "test_assess_supply_needs (__main__.TestLogisticAgent)\n",
      "Test assessing supply needs ... "
     ]
    },
    {
     "name": "stdout",
     "output_type": "stream",
     "text": [
      "[autogen.oai.client: 03-04 20:30:46] {261} WARNING - The API key specified is not a valid OpenAI format; it won't work with the OpenAI-hosted model.\n"
     ]
    },
    {
     "name": "stderr",
     "output_type": "stream",
     "text": [
      "WARNING:autogen.oai.client:The API key specified is not a valid OpenAI format; it won't work with the OpenAI-hosted model.\n",
      "FAIL\n",
      "test_generate_method (__main__.TestLogisticAgent)\n",
      "Test the generate method with mocked Gemini client ... "
     ]
    },
    {
     "name": "stdout",
     "output_type": "stream",
     "text": [
      "[autogen.oai.client: 03-04 20:30:46] {261} WARNING - The API key specified is not a valid OpenAI format; it won't work with the OpenAI-hosted model.\n"
     ]
    },
    {
     "name": "stderr",
     "output_type": "stream",
     "text": [
      "WARNING:autogen.oai.client:The API key specified is not a valid OpenAI format; it won't work with the OpenAI-hosted model.\n",
      "FAIL\n",
      "test_get_historical_incidents (__main__.TestLogisticAgent)\n",
      "Test retrieving historical incidents ... "
     ]
    },
    {
     "name": "stdout",
     "output_type": "stream",
     "text": [
      "[autogen.oai.client: 03-04 20:31:10] {261} WARNING - The API key specified is not a valid OpenAI format; it won't work with the OpenAI-hosted model.\n"
     ]
    },
    {
     "name": "stderr",
     "output_type": "stream",
     "text": [
      "WARNING:autogen.oai.client:The API key specified is not a valid OpenAI format; it won't work with the OpenAI-hosted model.\n",
      "ok\n",
      "test_log_incident (__main__.TestLogisticAgent)\n",
      "Test logging an incident ... "
     ]
    },
    {
     "name": "stdout",
     "output_type": "stream",
     "text": [
      "[autogen.oai.client: 03-04 20:31:10] {261} WARNING - The API key specified is not a valid OpenAI format; it won't work with the OpenAI-hosted model.\n"
     ]
    },
    {
     "name": "stderr",
     "output_type": "stream",
     "text": [
      "WARNING:autogen.oai.client:The API key specified is not a valid OpenAI format; it won't work with the OpenAI-hosted model.\n",
      "ok\n",
      "test_process_request_get_supplies (__main__.TestLogisticAgent)\n",
      "Test processing a get_supplies request ... "
     ]
    },
    {
     "name": "stdout",
     "output_type": "stream",
     "text": [
      "[autogen.oai.client: 03-04 20:31:10] {261} WARNING - The API key specified is not a valid OpenAI format; it won't work with the OpenAI-hosted model.\n"
     ]
    },
    {
     "name": "stderr",
     "output_type": "stream",
     "text": [
      "WARNING:autogen.oai.client:The API key specified is not a valid OpenAI format; it won't work with the OpenAI-hosted model.\n",
      "ok\n",
      "test_process_request_unknown_type (__main__.TestLogisticAgent)\n",
      "Test processing an unknown request type ... "
     ]
    },
    {
     "name": "stdout",
     "output_type": "stream",
     "text": [
      "[autogen.oai.client: 03-04 20:31:33] {261} WARNING - The API key specified is not a valid OpenAI format; it won't work with the OpenAI-hosted model.\n"
     ]
    },
    {
     "name": "stderr",
     "output_type": "stream",
     "text": [
      "WARNING:autogen.oai.client:The API key specified is not a valid OpenAI format; it won't work with the OpenAI-hosted model.\n",
      "ok\n",
      "test_track_resource_usage (__main__.TestLogisticAgent)\n",
      "Test tracking resource usage ... "
     ]
    },
    {
     "name": "stdout",
     "output_type": "stream",
     "text": [
      "[autogen.oai.client: 03-04 20:31:33] {261} WARNING - The API key specified is not a valid OpenAI format; it won't work with the OpenAI-hosted model.\n"
     ]
    },
    {
     "name": "stderr",
     "output_type": "stream",
     "text": [
      "WARNING:autogen.oai.client:The API key specified is not a valid OpenAI format; it won't work with the OpenAI-hosted model.\n",
      "ok\n",
      "\n",
      "======================================================================\n",
      "FAIL: test_analyze_historical_incidents (__main__.TestLogisticAgent)\n",
      "Test analyzing historical incidents for a location\n",
      "----------------------------------------------------------------------\n",
      "Traceback (most recent call last):\n",
      "  File \"/var/folders/tk/hv2t5jr97w10vv7pz_qm8wfc0000gn/T/ipykernel_54810/3620701850.py\", line 129, in test_analyze_historical_incidents\n",
      "    self.assertIn(\"Mountain Rescue Zone\", analysis)\n",
      "AssertionError: 'Mountain Rescue Zone' not found in 'Previous Incident Insights:\\n- 2025-03-04 20:30:46.511124: Cold conditions encountered\\n- 2025-03-04 20:30:46.511149: Difficult terrain navigation\\n'\n",
      "\n",
      "======================================================================\n",
      "FAIL: test_assess_supply_needs (__main__.TestLogisticAgent)\n",
      "Test assessing supply needs\n",
      "----------------------------------------------------------------------\n",
      "Traceback (most recent call last):\n",
      "  File \"/var/folders/tk/hv2t5jr97w10vv7pz_qm8wfc0000gn/T/ipykernel_54810/3620701850.py\", line 169, in test_assess_supply_needs\n",
      "    self.assertEqual(response['status'], 'success')\n",
      "AssertionError: 'error' != 'success'\n",
      "- error\n",
      "+ success\n",
      "\n",
      "\n",
      "======================================================================\n",
      "FAIL: test_generate_method (__main__.TestLogisticAgent)\n",
      "Test the generate method with mocked Gemini client\n",
      "----------------------------------------------------------------------\n",
      "Traceback (most recent call last):\n",
      "  File \"/Users/jiahuajiang/miniconda3/envs/sar_proj/lib/python3.9/unittest/mock.py\", line 1336, in patched\n",
      "    return func(*newargs, **newkeywargs)\n",
      "  File \"/var/folders/tk/hv2t5jr97w10vv7pz_qm8wfc0000gn/T/ipykernel_54810/3620701850.py\", line 149, in test_generate_method\n",
      "    self.assertEqual(response, \"Mocked supply recommendation\")\n",
      "AssertionError: 'Okay, let\\'s break down supply recommenda[11302 chars]s.\\n' != 'Mocked supply recommendation'\n",
      "Diff is 11582 characters long. Set self.maxDiff to None to see it.\n",
      "\n",
      "----------------------------------------------------------------------\n",
      "Ran 8 tests in 47.292s\n",
      "\n",
      "FAILED (failures=3)\n"
     ]
    }
   ],
   "source": [
    "import unittest\n",
    "import json\n",
    "import os\n",
    "import datetime\n",
    "from unittest.mock import Mock, patch\n",
    "from typing import Dict, Any\n",
    "\n",
    "# Import the LogisticAgent class (assuming it's in the same directory)\n",
    "from logistic_agent import LogisticAgent\n",
    "\n",
    "class TestLogisticAgent(unittest.TestCase):\n",
    "    def setUp(self):\n",
    "        \"\"\"Initialize the LogisticAgent before each test\"\"\"\n",
    "        self.agent = LogisticAgent()\n",
    "\n",
    "    def test_process_request_get_supplies(self):\n",
    "        \"\"\"Test processing a get_supplies request\"\"\"\n",
    "        request = {\n",
    "            \"request_type\": \"get_supplies\",\n",
    "            \"parameters\": {\n",
    "                \"location\": \"Mountain Rescue Zone\",\n",
    "                \"team\": \"6 members\",\n",
    "                \"duration\": 3,\n",
    "                \"resources\": [\"first aid kit\", \"thermal blankets\", \"climbing gear\"]\n",
    "            }\n",
    "        }\n",
    "        \n",
    "        response = self.agent.process_request(request)\n",
    "        \n",
    "        # Assertions\n",
    "        self.assertEqual(response['status'], 'success')\n",
    "        self.assertIn('recommendations', response)\n",
    "        self.assertIn('metadata', response)\n",
    "        self.assertEqual(response['metadata']['location'], 'Mountain Rescue Zone')\n",
    "\n",
    "    def test_process_request_unknown_type(self):\n",
    "        \"\"\"Test processing an unknown request type\"\"\"\n",
    "        request = {\n",
    "            \"request_type\": \"unknown_request\",\n",
    "            \"parameters\": {}\n",
    "        }\n",
    "        \n",
    "        response = self.agent.process_request(request)\n",
    "        \n",
    "        # Assertions\n",
    "        self.assertEqual(response['status'], 'error')\n",
    "        self.assertIn('Unknown request type', response['message'])\n",
    "\n",
    "    def test_log_incident(self):\n",
    "        \"\"\"Test logging an incident\"\"\"\n",
    "        incident_data = {\n",
    "            \"status\": \"test\",\n",
    "            \"message\": \"Test incident logging\"\n",
    "        }\n",
    "        \n",
    "        # Log the incident\n",
    "        result = self.agent.log_incident(incident_data)\n",
    "        \n",
    "        # Assertions\n",
    "        self.assertTrue(result)\n",
    "        self.assertTrue(len(self.agent.historical_incidents) > 0)\n",
    "        \n",
    "        # Check the last logged incident\n",
    "        last_incident = self.agent.historical_incidents[-1]\n",
    "        self.assertEqual(last_incident['status'], 'test')\n",
    "        self.assertEqual(last_incident['message'], 'Test incident logging')\n",
    "        self.assertIn('timestamp', last_incident)\n",
    "\n",
    "    def test_track_resource_usage(self):\n",
    "        \"\"\"Test tracking resource usage\"\"\"\n",
    "        # First, add some initial resources\n",
    "        self.agent.resources = {\n",
    "            \"first aid kit\": 10,\n",
    "            \"thermal blankets\": 20,\n",
    "            \"climbing gear\": 5\n",
    "        }\n",
    "        \n",
    "        # Track resource usage\n",
    "        usage_log = self.agent.track_resource_usage(\n",
    "            mission_id=\"test_mission\",\n",
    "            resources_used={\n",
    "                \"first aid kit\": 2,\n",
    "                \"thermal blankets\": 5\n",
    "            }\n",
    "        )\n",
    "        \n",
    "        # Assertions\n",
    "        self.assertIn('mission_id', usage_log)\n",
    "        self.assertIn('timestamp', usage_log)\n",
    "        self.assertIn('resources_used', usage_log)\n",
    "        \n",
    "        # Check updated resource inventory\n",
    "        self.assertEqual(self.agent.resources['first aid kit'], 8)\n",
    "        self.assertEqual(self.agent.resources['thermal blankets'], 15)\n",
    "\n",
    "    def test_get_historical_incidents(self):\n",
    "        \"\"\"Test retrieving historical incidents\"\"\"\n",
    "        # Log multiple incidents\n",
    "        for i in range(15):\n",
    "            self.agent.log_incident({\n",
    "                \"status\": f\"test_incident_{i}\",\n",
    "                \"message\": f\"Test incident {i}\"\n",
    "            })\n",
    "        \n",
    "        # Retrieve incidents\n",
    "        recent_incidents = self.agent.get_historical_incidents(limit=10)\n",
    "        \n",
    "        # Assertions\n",
    "        self.assertEqual(len(recent_incidents), 10)\n",
    "        self.assertTrue(all('timestamp' in incident for incident in recent_incidents))\n",
    "\n",
    "    def test_analyze_historical_incidents(self):\n",
    "        \"\"\"Test analyzing historical incidents for a location\"\"\"\n",
    "        # Log incidents for different locations\n",
    "        incidents = [\n",
    "            {\"location\": \"Mountain Rescue Zone\", \"message\": \"Cold conditions encountered\"},\n",
    "            {\"location\": \"Mountain Rescue Zone\", \"message\": \"Difficult terrain navigation\"},\n",
    "            {\"location\": \"Desert Rescue Zone\", \"message\": \"Extreme heat challenge\"}\n",
    "        ]\n",
    "        \n",
    "        for incident in incidents:\n",
    "            self.agent.log_incident(incident)\n",
    "        \n",
    "        # Analyze incidents for Mountain Rescue Zone\n",
    "        analysis = self.agent.analyze_historical_incidents(\"Mountain Rescue Zone\")\n",
    "        \n",
    "        # Assertions\n",
    "        self.assertIsInstance(analysis, str)\n",
    "        self.assertIn(\"Mountain Rescue Zone\", analysis)\n",
    "        self.assertIn(\"Cold conditions encountered\", analysis)\n",
    "        self.assertIn(\"Difficult terrain navigation\", analysis)\n",
    "\n",
    "    @patch('logistic_agent.genai.Client')\n",
    "    def test_generate_method(self, mock_genai_client):\n",
    "        \"\"\"Test the generate method with mocked Gemini client\"\"\"\n",
    "        # Setup mock response\n",
    "        mock_response = Mock()\n",
    "        mock_response.text = \"Mocked supply recommendation\"\n",
    "        \n",
    "        mock_client_instance = Mock()\n",
    "        mock_client_instance.models.generate_content.return_value = mock_response\n",
    "        mock_genai_client.return_value = mock_client_instance\n",
    "        \n",
    "        # Call generate method\n",
    "        prompt = \"Generate supply recommendations for mountain rescue\"\n",
    "        response = self.agent.generate(prompt)\n",
    "        \n",
    "        # Assertions\n",
    "        self.assertEqual(response, \"Mocked supply recommendation\")\n",
    "        mock_client_instance.models.generate_content.assert_called_once()\n",
    "\n",
    "    def test_assess_supply_needs(self):\n",
    "        \"\"\"Test assessing supply needs\"\"\"\n",
    "        request = {\n",
    "            \"request_type\": \"assess_supply_needs\",\n",
    "            \"parameters\": {\n",
    "                \"location\": \"Tropical Forest\",\n",
    "                \"conditions\": {\n",
    "                    \"temperature\": \"35°C\",\n",
    "                    \"humidity\": \"85%\",\n",
    "                    \"terrain\": \"dense vegetation\"\n",
    "                }\n",
    "            }\n",
    "        }\n",
    "        \n",
    "        response = self.agent.process_request(request)\n",
    "        \n",
    "        # Assertions\n",
    "        self.assertEqual(response['status'], 'success')\n",
    "        self.assertIn('assessment', response)\n",
    "        self.assertIn('metadata', response)\n",
    "        self.assertEqual(response['metadata']['location'], 'Tropical Forest')\n",
    "\n",
    "def run_tests():\n",
    "    \"\"\"Run the test suite and print results\"\"\"\n",
    "    test_suite = unittest.TestLoader().loadTestsFromTestCase(TestLogisticAgent)\n",
    "    test_runner = unittest.TextTestRunner(verbosity=2)\n",
    "    result = test_runner.run(test_suite)\n",
    "    \n",
    "    # Optional: Return True if all tests pass, False otherwise\n",
    "    return result.wasSuccessful()\n",
    "\n",
    "if __name__ == '__main__':\n",
    "    run_tests()"
   ]
  }
 ],
 "metadata": {
  "kernelspec": {
   "display_name": "sar_proj",
   "language": "python",
   "name": "python3"
  },
  "language_info": {
   "codemirror_mode": {
    "name": "ipython",
    "version": 3
   },
   "file_extension": ".py",
   "mimetype": "text/x-python",
   "name": "python",
   "nbconvert_exporter": "python",
   "pygments_lexer": "ipython3",
   "version": "3.9.21"
  }
 },
 "nbformat": 4,
 "nbformat_minor": 2
}
